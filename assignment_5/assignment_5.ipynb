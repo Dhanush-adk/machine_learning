{
  "nbformat": 4,
  "nbformat_minor": 0,
  "metadata": {
    "colab": {
      "provenance": [],
      "authorship_tag": "ABX9TyPTwwcnTmY2nocUExKWn/be",
      "include_colab_link": true
    },
    "kernelspec": {
      "name": "python3",
      "display_name": "Python 3"
    },
    "language_info": {
      "name": "python"
    }
  },
  "cells": [
    {
      "cell_type": "markdown",
      "metadata": {
        "id": "view-in-github",
        "colab_type": "text"
      },
      "source": [
        "<a href=\"https://colab.research.google.com/github/Dhanush-adk/machine_learning/blob/main/assignment_5/assignment_5.ipynb\" target=\"_parent\"><img src=\"https://colab.research.google.com/assets/colab-badge.svg\" alt=\"Open In Colab\"/></a>"
      ]
    },
    {
      "cell_type": "code",
      "execution_count": 1,
      "metadata": {
        "id": "VSzbEaUcg7WV"
      },
      "outputs": [],
      "source": [
        "import numpy as np\n",
        "import matplotlib.pyplot as plt\n",
        "import torch"
      ]
    },
    {
      "cell_type": "code",
      "source": [
        "t_c = [0.5, 14.0, 15.0, 28.0, 11.0, 8.0, 3.0, -4.0, 6.0, 13.0, 21.0]\n",
        "t_u = [35.7, 55.9, 58.2, 81.9, 56.3, 48.9, 33.9, 21.8, 48.4, 60.4, 68.4]\n",
        "t_c = torch.tensor(t_c)\n",
        "t_u = torch.tensor(t_u)"
      ],
      "metadata": {
        "id": "J2vfQMdlE_vc"
      },
      "execution_count": 2,
      "outputs": []
    },
    {
      "cell_type": "code",
      "source": [
        "def model(t_u, w1, w2, b):\n",
        "    return w2*t_u**2 + w1*t_u + b #w2 * t_u ** 2 + w1 * t_u + b."
      ],
      "metadata": {
        "id": "P7mS_z2pFLZt"
      },
      "execution_count": 3,
      "outputs": []
    },
    {
      "cell_type": "code",
      "source": [
        "def loss_fn(t_p, t_c):\n",
        "    squared_diffs = (t_p - t_c)**2\n",
        "    return squared_diffs.mean()"
      ],
      "metadata": {
        "id": "AesAqqiBFStf"
      },
      "execution_count": 4,
      "outputs": []
    },
    {
      "cell_type": "code",
      "source": [
        "def training_loop(n_epochs, optimizer, params, t_u, t_c):\n",
        "    for epoch in range(1, n_epochs + 1):\n",
        "        t_p = model(t_u, *params)\n",
        "        loss = loss_fn(t_p, t_c)\n",
        "\n",
        "        optimizer.zero_grad()\n",
        "        loss.backward()\n",
        "        optimizer.step()\n",
        "\n",
        "        if epoch <= 1 or epoch % 500 ==0:\n",
        "            print(f\"Epoch {epoch}, loss {loss.item():.4f}\")\n",
        "\n",
        "    return params"
      ],
      "metadata": {
        "id": "Q5RgDJPqFtdJ"
      },
      "execution_count": 5,
      "outputs": []
    },
    {
      "cell_type": "code",
      "source": [
        "import torch.optim as optim\n",
        "\n",
        "dir(optim)"
      ],
      "metadata": {
        "colab": {
          "base_uri": "https://localhost:8080/"
        },
        "id": "OiTaNFNSFv6s",
        "outputId": "842a7924-161d-47ef-a42c-c6d3d2dec5e7"
      },
      "execution_count": 6,
      "outputs": [
        {
          "output_type": "execute_result",
          "data": {
            "text/plain": [
              "['ASGD',\n",
              " 'Adadelta',\n",
              " 'Adagrad',\n",
              " 'Adam',\n",
              " 'AdamW',\n",
              " 'Adamax',\n",
              " 'LBFGS',\n",
              " 'NAdam',\n",
              " 'Optimizer',\n",
              " 'RAdam',\n",
              " 'RMSprop',\n",
              " 'Rprop',\n",
              " 'SGD',\n",
              " 'SparseAdam',\n",
              " '__builtins__',\n",
              " '__cached__',\n",
              " '__doc__',\n",
              " '__file__',\n",
              " '__loader__',\n",
              " '__name__',\n",
              " '__package__',\n",
              " '__path__',\n",
              " '__spec__',\n",
              " '_functional',\n",
              " '_multi_tensor',\n",
              " 'lr_scheduler',\n",
              " 'swa_utils']"
            ]
          },
          "metadata": {},
          "execution_count": 6
        }
      ]
    },
    {
      "cell_type": "code",
      "source": [
        "t_un = 0.1 * t_u\n",
        "params = torch.tensor([1.0,1.0,0.0], requires_grad=True)\n",
        "learning_rate = 0.1\n",
        "optimizer = optim.Adam([params], lr = learning_rate)\n",
        "\n",
        "training_loop(\n",
        "    n_epochs=5000,\n",
        "    optimizer = optimizer,\n",
        "    params = params,\n",
        "    t_u = t_un,\n",
        "    t_c = t_c)"
      ],
      "metadata": {
        "colab": {
          "base_uri": "https://localhost:8080/"
        },
        "id": "Z3Z9aDJyFx-I",
        "outputId": "ef175cb8-e4e7-4bdf-a4a0-19df0fd6351d"
      },
      "execution_count": 7,
      "outputs": [
        {
          "output_type": "stream",
          "name": "stdout",
          "text": [
            "Epoch 1, loss 675.7944\n",
            "Epoch 500, loss 2.7825\n",
            "Epoch 1000, loss 2.4860\n",
            "Epoch 1500, loss 2.2615\n",
            "Epoch 2000, loss 2.1441\n",
            "Epoch 2500, loss 2.1019\n",
            "Epoch 3000, loss 2.0921\n",
            "Epoch 3500, loss 2.0908\n",
            "Epoch 4000, loss 2.0907\n",
            "Epoch 4500, loss 2.0907\n",
            "Epoch 5000, loss 2.0907\n"
          ]
        },
        {
          "output_type": "execute_result",
          "data": {
            "text/plain": [
              "tensor([  2.4760,   0.2830, -10.6496], requires_grad=True)"
            ]
          },
          "metadata": {},
          "execution_count": 7
        }
      ]
    },
    {
      "cell_type": "code",
      "source": [
        "t_p = model(t_un, *params)\n",
        "\n",
        "plt.figure()\n",
        "\n",
        "# Set labels for the axes\n",
        "plt.xlabel('Temperature (Fahrenheit)')\n",
        "plt.ylabel('Temperature (Celsius)')\n",
        "\n",
        "# Plot the model's predictions in peachpuff color\n",
        "plt.plot(t_u.numpy(), t_p.detach().numpy(), color='red', label='Model Predictions')\n",
        "\n",
        "# Plot the actual data as points\n",
        "plt.plot(t_u.numpy(), t_c.numpy(), 'p', label='Actual Data')\n",
        "\n",
        "# Add a legend to the plot\n",
        "plt.legend()\n",
        "\n",
        "# Show the plot\n",
        "plt.show()\n"
      ],
      "metadata": {
        "colab": {
          "base_uri": "https://localhost:8080/",
          "height": 452
        },
        "id": "12P1LEYCu1aV",
        "outputId": "117d7111-7428-4334-9853-5990c20f02c0"
      },
      "execution_count": 8,
      "outputs": [
        {
          "output_type": "display_data",
          "data": {
            "text/plain": [
              "<Figure size 640x480 with 1 Axes>"
            ],
            "image/png": "[encoded data removed]"
          },
          "metadata": {}
        }
      ]
    },
    {
      "cell_type": "code",
      "source": [
        "t_un = 0.1 * t_u\n",
        "params = torch.tensor([1.0,1.0,0.0], requires_grad=True)\n",
        "learning_rate = 0.01\n",
        "optimizer = optim.Adam([params], lr = learning_rate)\n",
        "\n",
        "training_loop(\n",
        "    n_epochs=5000,\n",
        "    optimizer = optimizer,\n",
        "    params = params,\n",
        "    t_u = t_un,\n",
        "    t_c = t_c)"
      ],
      "metadata": {
        "colab": {
          "base_uri": "https://localhost:8080/"
        },
        "id": "UZ6AtA5-F5nO",
        "outputId": "3926c87e-2336-496c-9a7d-41052cfca80c"
      },
      "execution_count": 9,
      "outputs": [
        {
          "output_type": "stream",
          "name": "stdout",
          "text": [
            "Epoch 1, loss 675.7944\n",
            "Epoch 500, loss 6.1112\n",
            "Epoch 1000, loss 3.9368\n",
            "Epoch 1500, loss 3.1178\n",
            "Epoch 2000, loss 2.9318\n",
            "Epoch 2500, loss 2.8713\n",
            "Epoch 3000, loss 2.8129\n",
            "Epoch 3500, loss 2.7441\n",
            "Epoch 4000, loss 2.6647\n",
            "Epoch 4500, loss 2.5764\n",
            "Epoch 5000, loss 2.4825\n"
          ]
        },
        {
          "output_type": "execute_result",
          "data": {
            "text/plain": [
              "tensor([ 0.4768,  0.4673, -5.6706], requires_grad=True)"
            ]
          },
          "metadata": {},
          "execution_count": 9
        }
      ]
    },
    {
      "cell_type": "code",
      "source": [
        "t_un.numpy()"
      ],
      "metadata": {
        "colab": {
          "base_uri": "https://localhost:8080/"
        },
        "id": "-sT0QyHuv3Li",
        "outputId": "33805761-29ed-49bd-c698-9ac900c99fab"
      },
      "execution_count": 10,
      "outputs": [
        {
          "output_type": "execute_result",
          "data": {
            "text/plain": [
              "array([3.5700002, 5.59     , 5.82     , 8.190001 , 5.63     , 4.8900003,\n",
              "       3.39     , 2.18     , 4.84     , 6.0400004, 6.84     ],\n",
              "      dtype=float32)"
            ]
          },
          "metadata": {},
          "execution_count": 10
        }
      ]
    },
    {
      "cell_type": "code",
      "source": [
        "t_p.detach().numpy()"
      ],
      "metadata": {
        "colab": {
          "base_uri": "https://localhost:8080/"
        },
        "id": "W1el397hwFg0",
        "outputId": "3a8a9219-fdef-4b88-a21d-a409d10d7499"
      },
      "execution_count": 11,
      "outputs": [
        {
          "output_type": "execute_result",
          "data": {
            "text/plain": [
              "array([ 1.7972012, 12.035997 , 13.348276 , 28.614595 , 12.262068 ,\n",
              "        8.226366 ,  0.9969187, -3.9067006,  7.964863 , 14.631525 ,\n",
              "       19.528837 ], dtype=float32)"
            ]
          },
          "metadata": {},
          "execution_count": 11
        }
      ]
    },
    {
      "cell_type": "code",
      "source": [
        "t_p = model(t_un, *params)\n",
        "\n",
        "plt.figure()\n",
        "\n",
        "# Set labels for the axes\n",
        "plt.xlabel('Temperature (Fahrenheit)')\n",
        "plt.ylabel('Temperature (Celsius)')\n",
        "\n",
        "# Plot the nodel's predictions in peachpuff color\n",
        "plt.plot(t_u.numpy(), t_p.detach().numpy(), color='red', label='Model Predictions')\n",
        "\n",
        "# Plot the actual data as points\n",
        "plt.plot(t_u.numpy(), t_c.numpy(), 'p', label='Actual Data')\n",
        "\n",
        "# Add a legend to the plot\n",
        "plt.legend()\n",
        "\n",
        "# Show the plot\n",
        "plt.show()\n"
      ],
      "metadata": {
        "colab": {
          "base_uri": "https://localhost:8080/",
          "height": 449
        },
        "id": "1xzoGnKMvgan",
        "outputId": "a9692665-b04a-4b54-cdc8-5eff229846da"
      },
      "execution_count": 12,
      "outputs": [
        {
          "output_type": "display_data",
          "data": {
            "text/plain": [
              "<Figure size 640x480 with 1 Axes>"
            ],
            "image/png": "[encoded data removed]"
          },
          "metadata": {}
        }
      ]
    },
    {
      "cell_type": "code",
      "source": [
        "t_un = 0.1 * t_u\n",
        "params = torch.tensor([1.0,1.0,0.0], requires_grad=True)\n",
        "learning_rate = 0.001\n",
        "optimizer = optim.Adam([params], lr = learning_rate)\n",
        "\n",
        "training_loop(\n",
        "    n_epochs=5000,\n",
        "    optimizer = optimizer,\n",
        "    params = params,\n",
        "    t_u = t_un,\n",
        "    t_c = t_c)"
      ],
      "metadata": {
        "colab": {
          "base_uri": "https://localhost:8080/"
        },
        "id": "_VJXpDRJkpfY",
        "outputId": "184f0b92-f588-4ad9-9356-1f802c73ed1a"
      },
      "execution_count": 13,
      "outputs": [
        {
          "output_type": "stream",
          "name": "stdout",
          "text": [
            "Epoch 1, loss 675.7944\n",
            "Epoch 500, loss 103.7950\n",
            "Epoch 1000, loss 13.0185\n",
            "Epoch 1500, loss 8.0649\n",
            "Epoch 2000, loss 7.6890\n",
            "Epoch 2500, loss 7.2952\n",
            "Epoch 3000, loss 6.8309\n",
            "Epoch 3500, loss 6.3062\n",
            "Epoch 4000, loss 5.7396\n",
            "Epoch 4500, loss 5.1592\n",
            "Epoch 5000, loss 4.6001\n"
          ]
        },
        {
          "output_type": "execute_result",
          "data": {
            "text/plain": [
              "tensor([-0.0524,  0.4484, -1.7755], requires_grad=True)"
            ]
          },
          "metadata": {},
          "execution_count": 13
        }
      ]
    },
    {
      "cell_type": "code",
      "source": [
        "t_p = model(t_u, *params)\n",
        "\n",
        "plt.figure()\n",
        "\n",
        "# Set labels for the axes\n",
        "plt.xlabel('Temperature (Fahrenheit)')\n",
        "plt.ylabel('Temperature (Celsius)')\n",
        "\n",
        "# Plot the model's predictions in peachpuff color\n",
        "plt.plot(t_u.numpy(), t_p.detach().numpy(), color='red', label='Model Predictions')\n",
        "\n",
        "# Plot the actual data as points\n",
        "plt.plot(t_u.numpy(), t_c.numpy(), 'p', label='Actual Data')\n",
        "\n",
        "# Add a legend to the plot\n",
        "plt.legend()\n",
        "\n",
        "# Show the plot\n",
        "plt.show()"
      ],
      "metadata": {
        "colab": {
          "base_uri": "https://localhost:8080/",
          "height": 449
        },
        "id": "3Gu4BHLtvkMA",
        "outputId": "8c0774be-e31c-498f-ac51-fbfd4838570b"
      },
      "execution_count": 14,
      "outputs": [
        {
          "output_type": "display_data",
          "data": {
            "text/plain": [
              "<Figure size 640x480 with 1 Axes>"
            ],
            "image/png": "[encoded data removed]"
          },
          "metadata": {}
        }
      ]
    },
    {
      "cell_type": "code",
      "source": [
        "\n",
        "t_un = 0.1 * t_u\n",
        "params = torch.tensor([1.0,1.0,0.0], requires_grad=True)\n",
        "learning_rate = 0.0001\n",
        "optimizer = optim.Adam([params], lr = learning_rate)\n",
        "\n",
        "training_loop(\n",
        "    n_epochs=5000,\n",
        "    optimizer = optimizer,\n",
        "    params = params,\n",
        "    t_u = t_un,\n",
        "    t_c = t_c)"
      ],
      "metadata": {
        "colab": {
          "base_uri": "https://localhost:8080/"
        },
        "id": "Y1mRvCunmpYJ",
        "outputId": "b7f01623-ff28-403b-f1c2-8cf435331c13"
      },
      "execution_count": 15,
      "outputs": [
        {
          "output_type": "stream",
          "name": "stdout",
          "text": [
            "Epoch 1, loss 675.7944\n",
            "Epoch 500, loss 578.2527\n",
            "Epoch 1000, loss 491.2365\n",
            "Epoch 1500, loss 413.8677\n",
            "Epoch 2000, loss 345.2539\n",
            "Epoch 2500, loss 284.6672\n",
            "Epoch 3000, loss 231.5106\n",
            "Epoch 3500, loss 185.2833\n",
            "Epoch 4000, loss 145.5521\n",
            "Epoch 4500, loss 111.9216\n",
            "Epoch 5000, loss 84.0093\n"
          ]
        },
        {
          "output_type": "execute_result",
          "data": {
            "text/plain": [
              "tensor([ 0.5698,  0.5721, -0.4337], requires_grad=True)"
            ]
          },
          "metadata": {},
          "execution_count": 15
        }
      ]
    },
    {
      "cell_type": "code",
      "source": [
        "t_p = model(t_un, *params)\n",
        "\n",
        "plt.figure()\n",
        "\n",
        "# Set labels for the axes\n",
        "plt.xlabel('Temperature (Fahrenheit)')\n",
        "plt.ylabel('Temperature (Celsius)')\n",
        "\n",
        "# Plot the model's predictions in peachpuff color\n",
        "plt.plot(t_u.numpy(), t_p.detach().numpy(), color='red', label='Model Predictions')\n",
        "\n",
        "# Plot the actual data as points\n",
        "plt.plot(t_u.numpy(), t_c.numpy(), 'p', label='Actual Data')\n",
        "\n",
        "# Add a legend to the plot\n",
        "plt.legend()\n",
        "\n",
        "# Show the plot\n",
        "plt.show()"
      ],
      "metadata": {
        "colab": {
          "base_uri": "https://localhost:8080/",
          "height": 449
        },
        "id": "OABLGCQnwzAK",
        "outputId": "2449c314-3b28-4610-e6b1-e0bff1fdd5ee"
      },
      "execution_count": 16,
      "outputs": [
        {
          "output_type": "display_data",
          "data": {
            "text/plain": [
              "<Figure size 640x480 with 1 Axes>"
            ],
            "image/png": "[encoded data removed]"
          },
          "metadata": {}
        }
      ]
    },
    {
      "cell_type": "code",
      "source": [
        "t_un = 0.1 * t_u\n",
        "params = torch.tensor([1.0,1.0,0.0], requires_grad=True)\n",
        "learning_rate = 0.1\n",
        "optimizer = optim.SGD([params], lr = learning_rate)\n",
        "\n",
        "training_loop(\n",
        "    n_epochs=5000,\n",
        "    optimizer = optimizer,\n",
        "    params = params,\n",
        "    t_u = t_un,\n",
        "    t_c = t_c)"
      ],
      "metadata": {
        "colab": {
          "base_uri": "https://localhost:8080/"
        },
        "id": "ikk3Aogpmr7c",
        "outputId": "8881c018-f61d-4a43-8c2a-8fdbeb67d3a0"
      },
      "execution_count": 17,
      "outputs": [
        {
          "output_type": "stream",
          "name": "stdout",
          "text": [
            "Epoch 1, loss 675.7944\n",
            "Epoch 500, loss nan\n",
            "Epoch 1000, loss nan\n",
            "Epoch 1500, loss nan\n",
            "Epoch 2000, loss nan\n",
            "Epoch 2500, loss nan\n",
            "Epoch 3000, loss nan\n",
            "Epoch 3500, loss nan\n",
            "Epoch 4000, loss nan\n",
            "Epoch 4500, loss nan\n",
            "Epoch 5000, loss nan\n"
          ]
        },
        {
          "output_type": "execute_result",
          "data": {
            "text/plain": [
              "tensor([nan, nan, nan], requires_grad=True)"
            ]
          },
          "metadata": {},
          "execution_count": 17
        }
      ]
    },
    {
      "cell_type": "code",
      "source": [
        "t_p = model(t_un, *params)\n",
        "\n",
        "plt.figure()\n",
        "\n",
        "# Set labels for the axes\n",
        "plt.xlabel('Temperature (Fahrenheit)')\n",
        "plt.ylabel('Temperature (Celsius)')\n",
        "\n",
        "# Plot the model's predictions in peachpuff color\n",
        "plt.plot(t_u.numpy(), t_p.detach().numpy(), color='red', label='Model Predictions')\n",
        "\n",
        "# Plot the actual data as points\n",
        "plt.plot(t_u.numpy(), t_c.numpy(), 'p', label='Actual Data')\n",
        "\n",
        "# Add a legend to the plot\n",
        "plt.legend()\n",
        "\n",
        "# Show the plot\n",
        "plt.show()"
      ],
      "metadata": {
        "colab": {
          "base_uri": "https://localhost:8080/",
          "height": 449
        },
        "id": "qxN52w9Rw5lE",
        "outputId": "4c9ecbb9-9b00-4684-ee7f-4ae8987913e7"
      },
      "execution_count": 18,
      "outputs": [
        {
          "output_type": "display_data",
          "data": {
            "text/plain": [
              "<Figure size 640x480 with 1 Axes>"
            ],
            "image/png": "[encoded data removed]"
          },
          "metadata": {}
        }
      ]
    },
    {
      "cell_type": "code",
      "source": [
        "t_un = t_u\n",
        "params = torch.tensor([1.0,1.0,0.0], requires_grad=True)\n",
        "learning_rate = 0.00000001\n",
        "optimizer = optim.SGD([params], lr = learning_rate)\n",
        "\n",
        "training_loop(\n",
        "    n_epochs=5000,\n",
        "    optimizer = optimizer,\n",
        "    params = params,\n",
        "    t_u = t_un,\n",
        "    t_c = t_c)"
      ],
      "metadata": {
        "colab": {
          "base_uri": "https://localhost:8080/"
        },
        "id": "fUVAImjem87-",
        "outputId": "58b043f5-53bd-44b9-cfcb-270e0da194cc"
      },
      "execution_count": 19,
      "outputs": [
        {
          "output_type": "stream",
          "name": "stdout",
          "text": [
            "Epoch 1, loss 11709471.0000\n",
            "Epoch 500, loss 203.5310\n",
            "Epoch 1000, loss 202.9296\n",
            "Epoch 1500, loss 202.3291\n",
            "Epoch 2000, loss 201.7295\n",
            "Epoch 2500, loss 201.1309\n",
            "Epoch 3000, loss 200.5331\n",
            "Epoch 3500, loss 199.9362\n",
            "Epoch 4000, loss 199.3402\n",
            "Epoch 4500, loss 198.7452\n",
            "Epoch 5000, loss 198.1511\n"
          ]
        },
        {
          "output_type": "execute_result",
          "data": {
            "text/plain": [
              "tensor([ 9.6692e-01, -1.1139e-02, -9.4794e-04], requires_grad=True)"
            ]
          },
          "metadata": {},
          "execution_count": 19
        }
      ]
    },
    {
      "cell_type": "code",
      "source": [
        "t_p = model(t_un, *params)\n",
        "\n",
        "plt.figure()\n",
        "\n",
        "# Set labels for the axes\n",
        "plt.xlabel('Temperature (Fahrenheit)')\n",
        "plt.ylabel('Temperature (Celsius)')\n",
        "\n",
        "# Plot the model's predictions in peachpuff color\n",
        "plt.plot(t_u.numpy(), t_p.detach().numpy(), color='red', label='Model Predictions')\n",
        "\n",
        "# Plot the actual data as points\n",
        "plt.plot(t_u.numpy(), t_c.numpy(), 'p', label='Actual Data')\n",
        "\n",
        "# Add a legend to the plot\n",
        "plt.legend()\n",
        "\n",
        "# Show the plot\n",
        "plt.show()"
      ],
      "metadata": {
        "colab": {
          "base_uri": "https://localhost:8080/",
          "height": 449
        },
        "id": "12UKDQGDw959",
        "outputId": "61c03c62-6552-437c-f500-ed9d0c5b09c8"
      },
      "execution_count": 20,
      "outputs": [
        {
          "output_type": "display_data",
          "data": {
            "text/plain": [
              "<Figure size 640x480 with 1 Axes>"
            ],
            "image/png": "[encoded data removed]"
          },
          "metadata": {}
        }
      ]
    },
    {
      "cell_type": "code",
      "source": [
        "t_un = t_u\n",
        "params = torch.tensor([1.0,1.0,0.0], requires_grad=True)\n",
        "learning_rate = 0.00001\n",
        "optimizer = optim.SGD([params], lr = learning_rate)\n",
        "\n",
        "training_loop(\n",
        "    n_epochs=5000,\n",
        "    optimizer = optimizer,\n",
        "    params = params,\n",
        "    t_u = t_un,\n",
        "    t_c = t_c)"
      ],
      "metadata": {
        "colab": {
          "base_uri": "https://localhost:8080/"
        },
        "id": "qvX0LuQanAse",
        "outputId": "bfcf43da-df8f-4815-f38a-fa53c73b1a23"
      },
      "execution_count": 21,
      "outputs": [
        {
          "output_type": "stream",
          "name": "stdout",
          "text": [
            "Epoch 1, loss 11709471.0000\n",
            "Epoch 500, loss nan\n",
            "Epoch 1000, loss nan\n",
            "Epoch 1500, loss nan\n",
            "Epoch 2000, loss nan\n",
            "Epoch 2500, loss nan\n",
            "Epoch 3000, loss nan\n",
            "Epoch 3500, loss nan\n",
            "Epoch 4000, loss nan\n",
            "Epoch 4500, loss nan\n",
            "Epoch 5000, loss nan\n"
          ]
        },
        {
          "output_type": "execute_result",
          "data": {
            "text/plain": [
              "tensor([nan, nan, nan], requires_grad=True)"
            ]
          },
          "metadata": {},
          "execution_count": 21
        }
      ]
    },
    {
      "cell_type": "code",
      "source": [],
      "metadata": {
        "id": "TkewxZBs8Fmz"
      },
      "execution_count": 21,
      "outputs": []
    },
    {
      "cell_type": "code",
      "source": [],
      "metadata": {
        "id": "MBDZJ8zl8FjN"
      },
      "execution_count": 21,
      "outputs": []
    },
    {
      "cell_type": "code",
      "source": [
        "import pandas as pd\n",
        "from sklearn.preprocessing import MinMaxScaler"
      ],
      "metadata": {
        "id": "a00fqJBnus5n"
      },
      "execution_count": 22,
      "outputs": []
    },
    {
      "cell_type": "code",
      "source": [
        "#Use the URL for the raw CSV data\n",
        "url = 'https://raw.githubusercontent.com/Dhanush-adk/machine_learning/main/assignment_2/Housing.csv#'\n",
        "df = pd.read_csv(url)\n",
        "\n",
        "# Display the first 5 rows of the DataFrame\n",
        "df.head()\n"
      ],
      "metadata": {
        "colab": {
          "base_uri": "https://localhost:8080/",
          "height": 226
        },
        "id": "lhzJ1uvLrfeC",
        "outputId": "31cd10c5-b40f-48d7-ccad-171765384f9c"
      },
      "execution_count": 23,
      "outputs": [
        {
          "output_type": "execute_result",
          "data": {
            "text/plain": [
              "      price  area  bedrooms  bathrooms  stories mainroad guestroom basement  \\\n",
              "0  13300000  7420         4          2        3      yes        no       no   \n",
              "1  12250000  8960         4          4        4      yes        no       no   \n",
              "2  12250000  9960         3          2        2      yes        no      yes   \n",
              "3  12215000  7500         4          2        2      yes        no      yes   \n",
              "4  11410000  7420         4          1        2      yes       yes      yes   \n",
              "\n",
              "  hotwaterheating airconditioning  parking prefarea furnishingstatus  \n",
              "0              no             yes        2      yes        furnished  \n",
              "1              no             yes        3       no        furnished  \n",
              "2              no              no        2      yes   semi-furnished  \n",
              "3              no             yes        3      yes        furnished  \n",
              "4              no             yes        2       no        furnished  "
            ],
            "text/html": [
              "\n",
              "  <div id=\"df-e541be5b-b8cf-47c6-a18e-4e04b6c08afa\" class=\"colab-df-container\">\n",
              "    <div>\n",
              "<style scoped>\n",
              "    .dataframe tbody tr th:only-of-type {\n",
              "        vertical-align: middle;\n",
              "    }\n",
              "\n",
              "    .dataframe tbody tr th {\n",
              "        vertical-align: top;\n",
              "    }\n",
              "\n",
              "    .dataframe thead th {\n",
              "        text-align: right;\n",
              "    }\n",
              "</style>\n",
              "<table border=\"1\" class=\"dataframe\">\n",
              "  <thead>\n",
              "    <tr style=\"text-align: right;\">\n",
              "      <th></th>\n",
              "      <th>price</th>\n",
              "      <th>area</th>\n",
              "      <th>bedrooms</th>\n",
              "      <th>bathrooms</th>\n",
              "      <th>stories</th>\n",
              "      <th>mainroad</th>\n",
              "      <th>guestroom</th>\n",
              "      <th>basement</th>\n",
              "      <th>hotwaterheating</th>\n",
              "      <th>airconditioning</th>\n",
              "      <th>parking</th>\n",
              "      <th>prefarea</th>\n",
              "      <th>furnishingstatus</th>\n",
              "    </tr>\n",
              "  </thead>\n",
              "  <tbody>\n",
              "    <tr>\n",
              "      <th>0</th>\n",
              "      <td>13300000</td>\n",
              "      <td>7420</td>\n",
              "      <td>4</td>\n",
              "      <td>2</td>\n",
              "      <td>3</td>\n",
              "      <td>yes</td>\n",
              "      <td>no</td>\n",
              "      <td>no</td>\n",
              "      <td>no</td>\n",
              "      <td>yes</td>\n",
              "      <td>2</td>\n",
              "      <td>yes</td>\n",
              "      <td>furnished</td>\n",
              "    </tr>\n",
              "    <tr>\n",
              "      <th>1</th>\n",
              "      <td>12250000</td>\n",
              "      <td>8960</td>\n",
              "      <td>4</td>\n",
              "      <td>4</td>\n",
              "      <td>4</td>\n",
              "      <td>yes</td>\n",
              "      <td>no</td>\n",
              "      <td>no</td>\n",
              "      <td>no</td>\n",
              "      <td>yes</td>\n",
              "      <td>3</td>\n",
              "      <td>no</td>\n",
              "      <td>furnished</td>\n",
              "    </tr>\n",
              "    <tr>\n",
              "      <th>2</th>\n",
              "      <td>12250000</td>\n",
              "      <td>9960</td>\n",
              "      <td>3</td>\n",
              "      <td>2</td>\n",
              "      <td>2</td>\n",
              "      <td>yes</td>\n",
              "      <td>no</td>\n",
              "      <td>yes</td>\n",
              "      <td>no</td>\n",
              "      <td>no</td>\n",
              "      <td>2</td>\n",
              "      <td>yes</td>\n",
              "      <td>semi-furnished</td>\n",
              "    </tr>\n",
              "    <tr>\n",
              "      <th>3</th>\n",
              "      <td>12215000</td>\n",
              "      <td>7500</td>\n",
              "      <td>4</td>\n",
              "      <td>2</td>\n",
              "      <td>2</td>\n",
              "      <td>yes</td>\n",
              "      <td>no</td>\n",
              "      <td>yes</td>\n",
              "      <td>no</td>\n",
              "      <td>yes</td>\n",
              "      <td>3</td>\n",
              "      <td>yes</td>\n",
              "      <td>furnished</td>\n",
              "    </tr>\n",
              "    <tr>\n",
              "      <th>4</th>\n",
              "      <td>11410000</td>\n",
              "      <td>7420</td>\n",
              "      <td>4</td>\n",
              "      <td>1</td>\n",
              "      <td>2</td>\n",
              "      <td>yes</td>\n",
              "      <td>yes</td>\n",
              "      <td>yes</td>\n",
              "      <td>no</td>\n",
              "      <td>yes</td>\n",
              "      <td>2</td>\n",
              "      <td>no</td>\n",
              "      <td>furnished</td>\n",
              "    </tr>\n",
              "  </tbody>\n",
              "</table>\n",
              "</div>\n",
              "    <div class=\"colab-df-buttons\">\n",
              "\n",
              "  <div class=\"colab-df-container\">\n",
              "    <button class=\"colab-df-convert\" onclick=\"convertToInteractive('df-e541be5b-b8cf-47c6-a18e-4e04b6c08afa')\"\n",
              "            title=\"Convert this dataframe to an interactive table.\"\n",
              "            style=\"display:none;\">\n",
              "\n",
              "  <svg xmlns=\"http://www.w3.org/2000/svg\" height=\"24px\" viewBox=\"0 -960 960 960\">\n",
              "    <path d=\"M120-120v-720h720v720H120Zm60-500h600v-160H180v160Zm220 220h160v-160H400v160Zm0 220h160v-160H400v160ZM180-400h160v-160H180v160Zm440 0h160v-160H620v160ZM180-180h160v-160H180v160Zm440 0h160v-160H620v160Z\"/>\n",
              "  </svg>\n",
              "    </button>\n",
              "\n",
              "  <style>\n",
              "    .colab-df-container {\n",
              "      display:flex;\n",
              "      gap: 12px;\n",
              "    }\n",
              "\n",
              "    .colab-df-convert {\n",
              "      background-color: #E8F0FE;\n",
              "      border: none;\n",
              "      border-radius: 50%;\n",
              "      cursor: pointer;\n",
              "      display: none;\n",
              "      fill: #1967D2;\n",
              "      height: 32px;\n",
              "      padding: 0 0 0 0;\n",
              "      width: 32px;\n",
              "    }\n",
              "\n",
              "    .colab-df-convert:hover {\n",
              "      background-color: #E2EBFA;\n",
              "      box-shadow: 0px 1px 2px rgba(60, 64, 67, 0.3), 0px 1px 3px 1px rgba(60, 64, 67, 0.15);\n",
              "      fill: #174EA6;\n",
              "    }\n",
              "\n",
              "    .colab-df-buttons div {\n",
              "      margin-bottom: 4px;\n",
              "    }\n",
              "\n",
              "    [theme=dark] .colab-df-convert {\n",
              "      background-color: #3B4455;\n",
              "      fill: #D2E3FC;\n",
              "    }\n",
              "\n",
              "    [theme=dark] .colab-df-convert:hover {\n",
              "      background-color: #434B5C;\n",
              "      box-shadow: 0px 1px 3px 1px rgba(0, 0, 0, 0.15);\n",
              "      filter: drop-shadow(0px 1px 2px rgba(0, 0, 0, 0.3));\n",
              "      fill: #FFFFFF;\n",
              "    }\n",
              "  </style>\n",
              "\n",
              "    <script>\n",
              "      const buttonEl =\n",
              "        document.querySelector('#df-e541be5b-b8cf-47c6-a18e-4e04b6c08afa button.colab-df-convert');\n",
              "      buttonEl.style.display =\n",
              "        google.colab.kernel.accessAllowed ? 'block' : 'none';\n",
              "\n",
              "      async function convertToInteractive(key) {\n",
              "        const element = document.querySelector('#df-e541be5b-b8cf-47c6-a18e-4e04b6c08afa');\n",
              "        const dataTable =\n",
              "          await google.colab.kernel.invokeFunction('convertToInteractive',\n",
              "                                                    [key], {});\n",
              "        if (!dataTable) return;\n",
              "\n",
              "        const docLinkHtml = 'Like what you see? Visit the ' +\n",
              "          '<a target=\"_blank\" href=https://colab.research.google.com/notebooks/data_table.ipynb>data table notebook</a>'\n",
              "          + ' to learn more about interactive tables.';\n",
              "        element.innerHTML = '';\n",
              "        dataTable['output_type'] = 'display_data';\n",
              "        await google.colab.output.renderOutput(dataTable, element);\n",
              "        const docLink = document.createElement('div');\n",
              "        docLink.innerHTML = docLinkHtml;\n",
              "        element.appendChild(docLink);\n",
              "      }\n",
              "    </script>\n",
              "  </div>\n",
              "\n",
              "\n",
              "<div id=\"df-ec7e8001-39ec-4153-8046-d8c0d29e7c51\">\n",
              "  <button class=\"colab-df-quickchart\" onclick=\"quickchart('df-ec7e8001-39ec-4153-8046-d8c0d29e7c51')\"\n",
              "            title=\"Suggest charts\"\n",
              "            style=\"display:none;\">\n",
              "\n",
              "<svg xmlns=\"http://www.w3.org/2000/svg\" height=\"24px\"viewBox=\"0 0 24 24\"\n",
              "     width=\"24px\">\n",
              "    <g>\n",
              "        <path d=\"M19 3H5c-1.1 0-2 .9-2 2v14c0 1.1.9 2 2 2h14c1.1 0 2-.9 2-2V5c0-1.1-.9-2-2-2zM9 17H7v-7h2v7zm4 0h-2V7h2v10zm4 0h-2v-4h2v4z\"/>\n",
              "    </g>\n",
              "</svg>\n",
              "  </button>\n",
              "\n",
              "<style>\n",
              "  .colab-df-quickchart {\n",
              "      --bg-color: #E8F0FE;\n",
              "      --fill-color: #1967D2;\n",
              "      --hover-bg-color: #E2EBFA;\n",
              "      --hover-fill-color: #174EA6;\n",
              "      --disabled-fill-color: #AAA;\n",
              "      --disabled-bg-color: #DDD;\n",
              "  }\n",
              "\n",
              "  [theme=dark] .colab-df-quickchart {\n",
              "      --bg-color: #3B4455;\n",
              "      --fill-color: #D2E3FC;\n",
              "      --hover-bg-color: #434B5C;\n",
              "      --hover-fill-color: #FFFFFF;\n",
              "      --disabled-bg-color: #3B4455;\n",
              "      --disabled-fill-color: #666;\n",
              "  }\n",
              "\n",
              "  .colab-df-quickchart {\n",
              "    background-color: var(--bg-color);\n",
              "    border: none;\n",
              "    border-radius: 50%;\n",
              "    cursor: pointer;\n",
              "    display: none;\n",
              "    fill: var(--fill-color);\n",
              "    height: 32px;\n",
              "    padding: 0;\n",
              "    width: 32px;\n",
              "  }\n",
              "\n",
              "  .colab-df-quickchart:hover {\n",
              "    background-color: var(--hover-bg-color);\n",
              "    box-shadow: 0 1px 2px rgba(60, 64, 67, 0.3), 0 1px 3px 1px rgba(60, 64, 67, 0.15);\n",
              "    fill: var(--button-hover-fill-color);\n",
              "  }\n",
              "\n",
              "  .colab-df-quickchart-complete:disabled,\n",
              "  .colab-df-quickchart-complete:disabled:hover {\n",
              "    background-color: var(--disabled-bg-color);\n",
              "    fill: var(--disabled-fill-color);\n",
              "    box-shadow: none;\n",
              "  }\n",
              "\n",
              "  .colab-df-spinner {\n",
              "    border: 2px solid var(--fill-color);\n",
              "    border-color: transparent;\n",
              "    border-bottom-color: var(--fill-color);\n",
              "    animation:\n",
              "      spin 1s steps(1) infinite;\n",
              "  }\n",
              "\n",
              "  @keyframes spin {\n",
              "    0% {\n",
              "      border-color: transparent;\n",
              "      border-bottom-color: var(--fill-color);\n",
              "      border-left-color: var(--fill-color);\n",
              "    }\n",
              "    20% {\n",
              "      border-color: transparent;\n",
              "      border-left-color: var(--fill-color);\n",
              "      border-top-color: var(--fill-color);\n",
              "    }\n",
              "    30% {\n",
              "      border-color: transparent;\n",
              "      border-left-color: var(--fill-color);\n",
              "      border-top-color: var(--fill-color);\n",
              "      border-right-color: var(--fill-color);\n",
              "    }\n",
              "    40% {\n",
              "      border-color: transparent;\n",
              "      border-right-color: var(--fill-color);\n",
              "      border-top-color: var(--fill-color);\n",
              "    }\n",
              "    60% {\n",
              "      border-color: transparent;\n",
              "      border-right-color: var(--fill-color);\n",
              "    }\n",
              "    80% {\n",
              "      border-color: transparent;\n",
              "      border-right-color: var(--fill-color);\n",
              "      border-bottom-color: var(--fill-color);\n",
              "    }\n",
              "    90% {\n",
              "      border-color: transparent;\n",
              "      border-bottom-color: var(--fill-color);\n",
              "    }\n",
              "  }\n",
              "</style>\n",
              "\n",
              "  <script>\n",
              "    async function quickchart(key) {\n",
              "      const quickchartButtonEl =\n",
              "        document.querySelector('#' + key + ' button');\n",
              "      quickchartButtonEl.disabled = true;  // To prevent multiple clicks.\n",
              "      quickchartButtonEl.classList.add('colab-df-spinner');\n",
              "      try {\n",
              "        const charts = await google.colab.kernel.invokeFunction(\n",
              "            'suggestCharts', [key], {});\n",
              "      } catch (error) {\n",
              "        console.error('Error during call to suggestCharts:', error);\n",
              "      }\n",
              "      quickchartButtonEl.classList.remove('colab-df-spinner');\n",
              "      quickchartButtonEl.classList.add('colab-df-quickchart-complete');\n",
              "    }\n",
              "    (() => {\n",
              "      let quickchartButtonEl =\n",
              "        document.querySelector('#df-ec7e8001-39ec-4153-8046-d8c0d29e7c51 button');\n",
              "      quickchartButtonEl.style.display =\n",
              "        google.colab.kernel.accessAllowed ? 'block' : 'none';\n",
              "    })();\n",
              "  </script>\n",
              "</div>\n",
              "    </div>\n",
              "  </div>\n"
            ]
          },
          "metadata": {},
          "execution_count": 23
        }
      ]
    },
    {
      "cell_type": "code",
      "source": [
        "input_features = ['area', 'bedrooms', 'bathrooms', 'stories', 'parking']\n",
        "output_feature = 'price'"
      ],
      "metadata": {
        "id": "JKISOTZIrYUL"
      },
      "execution_count": 24,
      "outputs": []
    },
    {
      "cell_type": "code",
      "source": [
        "scaler = MinMaxScaler()\n",
        "df[input_features + [output_feature]] = scaler.fit_transform(df[input_features + [output_feature]])"
      ],
      "metadata": {
        "id": "YSsfa2Ps8RXO"
      },
      "execution_count": 28,
      "outputs": []
    },
    {
      "cell_type": "code",
      "source": [
        "from sklearn.model_selection import train_test_split\n",
        "\n",
        "# We specify this so that the train and test data set always have the same rows, respectively\n",
        "np.random.seed(0)\n",
        "\n",
        "X = df[input_features].values\n",
        "y = df[[output_feature]].values"
      ],
      "metadata": {
        "id": "wqy6nJPu86qc"
      },
      "execution_count": 41,
      "outputs": []
    },
    {
      "cell_type": "code",
      "source": [
        "X_t = torch.tensor(X)\n",
        "Y_t = torch.tensor(y)"
      ],
      "metadata": {
        "id": "e4njmIiXmtmG"
      },
      "execution_count": 42,
      "outputs": []
    },
    {
      "cell_type": "code",
      "source": [
        "X_t"
      ],
      "metadata": {
        "colab": {
          "base_uri": "https://localhost:8080/"
        },
        "id": "WlLz4xLdmzx2",
        "outputId": "806aff3a-379f-4269-eb72-03a92ac970f1"
      },
      "execution_count": 43,
      "outputs": [
        {
          "output_type": "execute_result",
          "data": {
            "text/plain": [
              "tensor([[0.3966, 0.6000, 0.3333, 0.6667, 0.6667],\n",
              "        [0.5024, 0.6000, 1.0000, 1.0000, 1.0000],\n",
              "        [0.5711, 0.4000, 0.3333, 0.3333, 0.6667],\n",
              "        ...,\n",
              "        [0.1354, 0.2000, 0.0000, 0.0000, 0.0000],\n",
              "        [0.0866, 0.4000, 0.0000, 0.0000, 0.0000],\n",
              "        [0.1512, 0.4000, 0.0000, 0.3333, 0.0000]], dtype=torch.float64)"
            ]
          },
          "metadata": {},
          "execution_count": 43
        }
      ]
    },
    {
      "cell_type": "code",
      "source": [
        "Y_t"
      ],
      "metadata": {
        "id": "wzvd9Ih6m7Um"
      },
      "execution_count": null,
      "outputs": []
    },
    {
      "cell_type": "code",
      "source": [
        "def model(X, W, B):\n",
        "    return torch.sum(X * W, dim=1) + B"
      ],
      "metadata": {
        "id": "Z5YnjhJQnJVk"
      },
      "execution_count": 94,
      "outputs": []
    },
    {
      "cell_type": "code",
      "source": [
        "weights = torch.ones(5)  # Consolidating W1, W2, W3, W4, W5 into a single tensor, because of 5 inputs\n",
        "bias = torch.zeros(1)    # Bias as a single value"
      ],
      "metadata": {
        "id": "Z2UbWpX0ptYy"
      },
      "execution_count": 95,
      "outputs": []
    },
    {
      "cell_type": "code",
      "source": [
        "train_X, val_X, train_Y, val_Y = train_test_split(X, y, test_size=0.2, random_state=42)"
      ],
      "metadata": {
        "id": "xPbm3Yoop1GQ"
      },
      "execution_count": 96,
      "outputs": []
    },
    {
      "cell_type": "code",
      "source": [
        "train_X.shape, train_Y.shape, val_X.shape, val_Y.shape"
      ],
      "metadata": {
        "colab": {
          "base_uri": "https://localhost:8080/"
        },
        "id": "S85m1jIDp8SY",
        "outputId": "8897138e-e5bb-4ca6-af64-c5f0613755ac"
      },
      "execution_count": 97,
      "outputs": [
        {
          "output_type": "execute_result",
          "data": {
            "text/plain": [
              "((436, 5), (436, 1), (109, 5), (109, 1))"
            ]
          },
          "metadata": {},
          "execution_count": 97
        }
      ]
    },
    {
      "cell_type": "code",
      "source": [
        "X_train = torch.tensor(train_X)\n",
        "y_train =  torch.tensor(train_Y)\n",
        "X_val =  torch.tensor(val_X)\n",
        "y_val =  torch.tensor(val_Y)"
      ],
      "metadata": {
        "id": "2S9eEah4qCAu"
      },
      "execution_count": 98,
      "outputs": []
    },
    {
      "cell_type": "code",
      "source": [
        "def training_loop(n_epochs, optimizer, weights, bias, X_train, X_val, y_train, y_val):\n",
        "\n",
        "    for epoch in range(1, n_epochs + 1):\n",
        "        y_train_p = model(X_train, weights, bias)\n",
        "        train_loss = loss_fn(y_train_p, y_train)\n",
        "\n",
        "        y_val_p = model(X_train, weights, bias)\n",
        "        val_loss = loss_fn(y_val_p, y_val)\n",
        "\n",
        "        optimizer.zero_grad()\n",
        "        train_loss.backward()\n",
        "        optimizer.step()\n",
        "\n",
        "        if epoch % 500 == 0:\n",
        "            print(f\"Epoch {epoch}, Training loss {train_loss.item():.4f},\"\n",
        "                  f\" Validation loss {val_loss.item():.4f}\")\n",
        "\n",
        "    return weights, bias"
      ],
      "metadata": {
        "id": "EpY4kkM7qHrm"
      },
      "execution_count": 101,
      "outputs": []
    },
    {
      "cell_type": "code",
      "source": [
        "# params = torch.tensor([1.0, 1.0, 1.0, 1.0, 1.0, 0.0], requires_grad=True)\n",
        "weights = torch.tensor([1.0, 1.0, 1.0, 1.0, 1.0], requires_grad=True)\n",
        "bias = torch.tensor([0.0], requires_grad=True)\n",
        "learning_rate = 0.1\n",
        "optimizer = optim.Adam([weights, bias], lr=learning_rate)\n",
        "\n",
        "training_loop(\n",
        "    n_epochs = 5000,\n",
        "    optimizer = optimizer,\n",
        "    weights = weights,\n",
        "    bias = bias,\n",
        "    X_train = X_train,\n",
        "    X_val = X_val,\n",
        "    y_train = y_train,\n",
        "    y_val = y_val)\n"
      ],
      "metadata": {
        "colab": {
          "base_uri": "https://localhost:8080/"
        },
        "id": "IVF6H1DnrOgq",
        "outputId": "4faa6b99-02c5-45ea-918d-7f1b6a00ba2a"
      },
      "execution_count": 104,
      "outputs": [
        {
          "output_type": "stream",
          "name": "stdout",
          "text": [
            "Epoch 500, Training loss 0.0231, Validation loss 0.0386\n",
            "Epoch 1000, Training loss 0.0231, Validation loss 0.0386\n",
            "Epoch 1500, Training loss 0.0231, Validation loss 0.0386\n",
            "Epoch 2000, Training loss 0.0231, Validation loss 0.0386\n",
            "Epoch 2500, Training loss 0.0231, Validation loss 0.0386\n",
            "Epoch 3000, Training loss 0.0231, Validation loss 0.0386\n",
            "Epoch 3500, Training loss 0.0231, Validation loss 0.0386\n",
            "Epoch 4000, Training loss 0.0231, Validation loss 0.0386\n",
            "Epoch 4500, Training loss 0.0231, Validation loss 0.0386\n",
            "Epoch 5000, Training loss 0.0231, Validation loss 0.0386\n"
          ]
        },
        {
          "output_type": "execute_result",
          "data": {
            "text/plain": [
              "(tensor([4.3523e-06, 4.4021e-06, 4.0123e-06, 4.2044e-06, 4.1834e-06],\n",
              "        requires_grad=True),\n",
              " tensor([0.2560], requires_grad=True))"
            ]
          },
          "metadata": {},
          "execution_count": 104
        }
      ]
    },
    {
      "cell_type": "code",
      "source": [
        "# params = torch.tensor([1.0, 1.0, 1.0, 1.0, 1.0, 0.0], requires_grad=True)\n",
        "weights = torch.tensor([1.0, 1.0, 1.0, 1.0, 1.0], requires_grad=True)\n",
        "bias = torch.tensor([0.0], requires_grad=True)\n",
        "learning_rate = 0.01\n",
        "optimizer = optim.Adam([weights, bias], lr=learning_rate)\n",
        "\n",
        "training_loop(\n",
        "    n_epochs = 5000,\n",
        "    optimizer = optimizer,\n",
        "    weights = weights,\n",
        "    bias = bias,\n",
        "    X_train = X_train,\n",
        "    X_val = X_val,\n",
        "    y_train = y_train,\n",
        "    y_val = y_val)"
      ],
      "metadata": {
        "colab": {
          "base_uri": "https://localhost:8080/"
        },
        "id": "20xhkcFjwtJh",
        "outputId": "9559d70d-b8fe-4ee0-830c-d2b1f96b607f"
      },
      "execution_count": 105,
      "outputs": [
        {
          "output_type": "stream",
          "name": "stdout",
          "text": [
            "Epoch 500, Training loss 0.0266, Validation loss 0.0424\n",
            "Epoch 1000, Training loss 0.0234, Validation loss 0.0389\n",
            "Epoch 1500, Training loss 0.0231, Validation loss 0.0386\n",
            "Epoch 2000, Training loss 0.0231, Validation loss 0.0386\n",
            "Epoch 2500, Training loss 0.0231, Validation loss 0.0386\n",
            "Epoch 3000, Training loss 0.0231, Validation loss 0.0386\n",
            "Epoch 3500, Training loss 0.0231, Validation loss 0.0386\n",
            "Epoch 4000, Training loss 0.0231, Validation loss 0.0386\n",
            "Epoch 4500, Training loss 0.0231, Validation loss 0.0386\n",
            "Epoch 5000, Training loss 0.0231, Validation loss 0.0386\n"
          ]
        },
        {
          "output_type": "execute_result",
          "data": {
            "text/plain": [
              "(tensor([ 1.1828e-07,  2.5502e-07, -6.8351e-08, -2.1430e-09,  6.7796e-09],\n",
              "        requires_grad=True),\n",
              " tensor([0.2560], requires_grad=True))"
            ]
          },
          "metadata": {},
          "execution_count": 105
        }
      ]
    },
    {
      "cell_type": "code",
      "source": [
        "# params = torch.tensor([1.0, 1.0, 1.0, 1.0, 1.0, 0.0], requires_grad=True)\n",
        "weights = torch.tensor([1.0, 1.0, 1.0, 1.0, 1.0], requires_grad=True)\n",
        "bias = torch.tensor([0.0], requires_grad=True)\n",
        "learning_rate = 0.001\n",
        "optimizer = optim.Adam([weights, bias], lr=learning_rate)\n",
        "\n",
        "training_loop(\n",
        "    n_epochs = 5000,\n",
        "    optimizer = optimizer,\n",
        "    weights = weights,\n",
        "    bias = bias,\n",
        "    X_train = X_train,\n",
        "    X_val = X_val,\n",
        "    y_train = y_train,\n",
        "    y_val = y_val)"
      ],
      "metadata": {
        "colab": {
          "base_uri": "https://localhost:8080/"
        },
        "id": "goMorO80wtGH",
        "outputId": "d0bd7940-0608-44ea-92f7-bfcafe423ac2"
      },
      "execution_count": 106,
      "outputs": [
        {
          "output_type": "stream",
          "name": "stdout",
          "text": [
            "Epoch 500, Training loss 0.2047, Validation loss 0.2117\n",
            "Epoch 1000, Training loss 0.1061, Validation loss 0.1239\n",
            "Epoch 1500, Training loss 0.0719, Validation loss 0.0899\n",
            "Epoch 2000, Training loss 0.0487, Validation loss 0.0659\n",
            "Epoch 2500, Training loss 0.0358, Validation loss 0.0524\n",
            "Epoch 3000, Training loss 0.0297, Validation loss 0.0459\n",
            "Epoch 3500, Training loss 0.0270, Validation loss 0.0428\n",
            "Epoch 4000, Training loss 0.0254, Validation loss 0.0411\n",
            "Epoch 4500, Training loss 0.0244, Validation loss 0.0400\n",
            "Epoch 5000, Training loss 0.0237, Validation loss 0.0393\n"
          ]
        },
        {
          "output_type": "execute_result",
          "data": {
            "text/plain": [
              "(tensor([ 0.0522,  0.1781, -0.0672, -0.0236, -0.0105], requires_grad=True),\n",
              " tensor([0.1860], requires_grad=True))"
            ]
          },
          "metadata": {},
          "execution_count": 106
        }
      ]
    },
    {
      "cell_type": "code",
      "source": [
        "# params = torch.tensor([1.0, 1.0, 1.0, 1.0, 1.0, 0.0], requires_grad=True)\n",
        "weights = torch.tensor([1.0, 1.0, 1.0, 1.0, 1.0], requires_grad=True)\n",
        "bias = torch.tensor([0.0], requires_grad=True)\n",
        "learning_rate = 0.0001\n",
        "optimizer = optim.Adam([weights, bias], lr=learning_rate)\n",
        "\n",
        "training_loop(\n",
        "    n_epochs = 5000,\n",
        "    optimizer = optimizer,\n",
        "    weights = weights,\n",
        "    bias = bias,\n",
        "    X_train = X_train,\n",
        "    X_val = X_val,\n",
        "    y_train = y_train,\n",
        "    y_val = y_val)"
      ],
      "metadata": {
        "colab": {
          "base_uri": "https://localhost:8080/"
        },
        "id": "k1rl3tNjwtDC",
        "outputId": "e243707f-c873-47f8-d170-85ef995391db"
      },
      "execution_count": 107,
      "outputs": [
        {
          "output_type": "stream",
          "name": "stdout",
          "text": [
            "Epoch 500, Training loss 1.1064, Validation loss 1.0777\n",
            "Epoch 1000, Training loss 0.9080, Validation loss 0.8847\n",
            "Epoch 1500, Training loss 0.7402, Validation loss 0.7219\n",
            "Epoch 2000, Training loss 0.5992, Validation loss 0.5858\n",
            "Epoch 2500, Training loss 0.4823, Validation loss 0.4735\n",
            "Epoch 3000, Training loss 0.3869, Validation loss 0.3825\n",
            "Epoch 3500, Training loss 0.3107, Validation loss 0.3104\n",
            "Epoch 4000, Training loss 0.2516, Validation loss 0.2551\n",
            "Epoch 4500, Training loss 0.2072, Validation loss 0.2143\n",
            "Epoch 5000, Training loss 0.1752, Validation loss 0.1854\n"
          ]
        },
        {
          "output_type": "execute_result",
          "data": {
            "text/plain": [
              "(tensor([0.6064, 0.6119, 0.5784, 0.5884, 0.5866], requires_grad=True),\n",
              " tensor([-0.3670], requires_grad=True))"
            ]
          },
          "metadata": {},
          "execution_count": 107
        }
      ]
    },
    {
      "cell_type": "code",
      "source": [
        "# params = torch.tensor([1.0, 1.0, 1.0, 1.0, 1.0, 0.0], requires_grad=True)\n",
        "weights = torch.tensor([1.0, 1.0, 1.0, 1.0, 1.0], requires_grad=True)\n",
        "bias = torch.tensor([0.0], requires_grad=True)\n",
        "learning_rate = 0.1\n",
        "optimizer = optim.SGD([weights, bias], lr=learning_rate)\n",
        "\n",
        "training_loop(\n",
        "    n_epochs = 5000,\n",
        "    optimizer = optimizer,\n",
        "    weights = weights,\n",
        "    bias = bias,\n",
        "    X_train = X_train,\n",
        "    X_val = X_val,\n",
        "    y_train = y_train,\n",
        "    y_val = y_val)"
      ],
      "metadata": {
        "colab": {
          "base_uri": "https://localhost:8080/"
        },
        "id": "YeEv-3Ufws94",
        "outputId": "71902e17-d9dc-41e9-d876-3a672ea08e62"
      },
      "execution_count": 108,
      "outputs": [
        {
          "output_type": "stream",
          "name": "stdout",
          "text": [
            "Epoch 500, Training loss 0.0235, Validation loss 0.0390\n",
            "Epoch 1000, Training loss 0.0231, Validation loss 0.0386\n",
            "Epoch 1500, Training loss 0.0231, Validation loss 0.0386\n",
            "Epoch 2000, Training loss 0.0231, Validation loss 0.0386\n",
            "Epoch 2500, Training loss 0.0231, Validation loss 0.0386\n",
            "Epoch 3000, Training loss 0.0231, Validation loss 0.0386\n",
            "Epoch 3500, Training loss 0.0231, Validation loss 0.0386\n",
            "Epoch 4000, Training loss 0.0231, Validation loss 0.0386\n",
            "Epoch 4500, Training loss 0.0231, Validation loss 0.0386\n",
            "Epoch 5000, Training loss 0.0231, Validation loss 0.0386\n"
          ]
        },
        {
          "output_type": "execute_result",
          "data": {
            "text/plain": [
              "(tensor([ 5.8444e-07,  1.6221e-06, -6.0470e-07, -4.4821e-08,  3.9729e-08],\n",
              "        requires_grad=True),\n",
              " tensor([0.2560], requires_grad=True))"
            ]
          },
          "metadata": {},
          "execution_count": 108
        }
      ]
    },
    {
      "cell_type": "code",
      "source": [
        "# params = torch.tensor([1.0, 1.0, 1.0, 1.0, 1.0, 0.0], requires_grad=True)\n",
        "weights = torch.tensor([1.0, 1.0, 1.0, 1.0, 1.0], requires_grad=True)\n",
        "bias = torch.tensor([0.0], requires_grad=True)\n",
        "learning_rate = 0.01\n",
        "optimizer = optim.SGD([weights, bias], lr=learning_rate)\n",
        "\n",
        "training_loop(\n",
        "    n_epochs = 5000,\n",
        "    optimizer = optimizer,\n",
        "    weights = weights,\n",
        "    bias = bias,\n",
        "    X_train = X_train,\n",
        "    X_val = X_val,\n",
        "    y_train = y_train,\n",
        "    y_val = y_val)"
      ],
      "metadata": {
        "colab": {
          "base_uri": "https://localhost:8080/"
        },
        "id": "-MotRxClyh1A",
        "outputId": "7338b787-22e7-4526-87fc-817932141113"
      },
      "execution_count": 109,
      "outputs": [
        {
          "output_type": "stream",
          "name": "stdout",
          "text": [
            "Epoch 500, Training loss 0.0900, Validation loss 0.1071\n",
            "Epoch 1000, Training loss 0.0447, Validation loss 0.0610\n",
            "Epoch 1500, Training loss 0.0326, Validation loss 0.0485\n",
            "Epoch 2000, Training loss 0.0284, Validation loss 0.0441\n",
            "Epoch 2500, Training loss 0.0263, Validation loss 0.0420\n",
            "Epoch 3000, Training loss 0.0252, Validation loss 0.0407\n",
            "Epoch 3500, Training loss 0.0245, Validation loss 0.0400\n",
            "Epoch 4000, Training loss 0.0240, Validation loss 0.0395\n",
            "Epoch 4500, Training loss 0.0237, Validation loss 0.0392\n",
            "Epoch 5000, Training loss 0.0235, Validation loss 0.0390\n"
          ]
        },
        {
          "output_type": "execute_result",
          "data": {
            "text/plain": [
              "(tensor([ 0.0912,  0.0961,  0.0113, -0.0293, -0.0281], requires_grad=True),\n",
              " tensor([0.2086], requires_grad=True))"
            ]
          },
          "metadata": {},
          "execution_count": 109
        }
      ]
    },
    {
      "cell_type": "code",
      "source": [
        "# params = torch.tensor([1.0, 1.0, 1.0, 1.0, 1.0, 0.0], requires_grad=True)\n",
        "weights = torch.tensor([1.0, 1.0, 1.0, 1.0, 1.0], requires_grad=True)\n",
        "bias = torch.tensor([0.0], requires_grad=True)\n",
        "learning_rate = 0.001\n",
        "optimizer = optim.SGD([weights, bias], lr=learning_rate)\n",
        "\n",
        "training_loop(\n",
        "    n_epochs = 5000,\n",
        "    optimizer = optimizer,\n",
        "    weights = weights,\n",
        "    bias = bias,\n",
        "    X_train = X_train,\n",
        "    X_val = X_val,\n",
        "    y_train = y_train,\n",
        "    y_val = y_val)"
      ],
      "metadata": {
        "colab": {
          "base_uri": "https://localhost:8080/"
        },
        "id": "l15_h7p3ynWw",
        "outputId": "1ddc1437-b8d0-4a1a-ed86-7f9bef297306"
      },
      "execution_count": 110,
      "outputs": [
        {
          "output_type": "stream",
          "name": "stdout",
          "text": [
            "Epoch 500, Training loss 0.3233, Validation loss 0.3281\n",
            "Epoch 1000, Training loss 0.2274, Validation loss 0.2421\n",
            "Epoch 1500, Training loss 0.1964, Validation loss 0.2136\n",
            "Epoch 2000, Training loss 0.1733, Validation loss 0.1909\n",
            "Epoch 2500, Training loss 0.1536, Validation loss 0.1712\n",
            "Epoch 3000, Training loss 0.1368, Validation loss 0.1543\n",
            "Epoch 3500, Training loss 0.1223, Validation loss 0.1397\n",
            "Epoch 4000, Training loss 0.1099, Validation loss 0.1271\n",
            "Epoch 4500, Training loss 0.0992, Validation loss 0.1163\n",
            "Epoch 5000, Training loss 0.0900, Validation loss 0.1070\n"
          ]
        },
        {
          "output_type": "execute_result",
          "data": {
            "text/plain": [
              "(tensor([0.6123, 0.5272, 0.5757, 0.2545, 0.2784], requires_grad=True),\n",
              " tensor([-0.3091], requires_grad=True))"
            ]
          },
          "metadata": {},
          "execution_count": 110
        }
      ]
    },
    {
      "cell_type": "code",
      "source": [
        "# params = torch.tensor([1.0, 1.0, 1.0, 1.0, 1.0, 0.0], requires_grad=True)\n",
        "weights = torch.tensor([1.0, 1.0, 1.0, 1.0, 1.0], requires_grad=True)\n",
        "bias = torch.tensor([0.0], requires_grad=True)\n",
        "learning_rate = 0.0001\n",
        "optimizer = optim.SGD([weights, bias], lr=learning_rate)\n",
        "\n",
        "training_loop(\n",
        "    n_epochs = 5000,\n",
        "    optimizer = optimizer,\n",
        "    weights = weights,\n",
        "    bias = bias,\n",
        "    X_train = X_train,\n",
        "    X_val = X_val,\n",
        "    y_train = y_train,\n",
        "    y_val = y_val)"
      ],
      "metadata": {
        "colab": {
          "base_uri": "https://localhost:8080/"
        },
        "id": "NwV4FDVHynTJ",
        "outputId": "58b90f29-7bf8-4f17-d572-14c64357a5e0"
      },
      "execution_count": 111,
      "outputs": [
        {
          "output_type": "stream",
          "name": "stdout",
          "text": [
            "Epoch 500, Training loss 1.0859, Validation loss 1.0583\n",
            "Epoch 1000, Training loss 0.8918, Validation loss 0.8700\n",
            "Epoch 1500, Training loss 0.7430, Validation loss 0.7263\n",
            "Epoch 2000, Training loss 0.6288, Validation loss 0.6166\n",
            "Epoch 2500, Training loss 0.5409, Validation loss 0.5326\n",
            "Epoch 3000, Training loss 0.4732, Validation loss 0.4683\n",
            "Epoch 3500, Training loss 0.4207, Validation loss 0.4188\n",
            "Epoch 4000, Training loss 0.3800, Validation loss 0.3806\n",
            "Epoch 4500, Training loss 0.3482, Validation loss 0.3510\n",
            "Epoch 5000, Training loss 0.3231, Validation loss 0.3280\n"
          ]
        },
        {
          "output_type": "execute_result",
          "data": {
            "text/plain": [
              "(tensor([0.8369, 0.7544, 0.8998, 0.7654, 0.7854], requires_grad=True),\n",
              " tensor([-0.4963], requires_grad=True))"
            ]
          },
          "metadata": {},
          "execution_count": 111
        }
      ]
    },
    {
      "cell_type": "code",
      "source": [],
      "metadata": {
        "id": "abynEwfGynQb"
      },
      "execution_count": null,
      "outputs": []
    },
    {
      "cell_type": "code",
      "source": [],
      "metadata": {
        "id": "fsal92zdynOo"
      },
      "execution_count": null,
      "outputs": []
    }
  ]
}